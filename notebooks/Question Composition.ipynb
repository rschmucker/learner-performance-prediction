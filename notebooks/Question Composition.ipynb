{
 "cells": [
  {
   "cell_type": "markdown",
   "metadata": {},
   "source": [
    "# Question composition"
   ]
  },
  {
   "cell_type": "markdown",
   "metadata": {},
   "source": [
    "Here we want to investigate the composition of the questions the students are confronted with over time."
   ]
  },
  {
   "cell_type": "code",
   "execution_count": 1,
   "metadata": {},
   "outputs": [],
   "source": [
    "# General imports\n",
    "import sys\n",
    "sys.path.append(\"..\")\n",
    "\n",
    "import time\n",
    "import numpy as np\n",
    "import pandas as pd\n",
    "from collections import defaultdict\n",
    "import matplotlib.pyplot as plt\n",
    "import seaborn as sns"
   ]
  },
  {
   "cell_type": "code",
   "execution_count": 2,
   "metadata": {},
   "outputs": [],
   "source": [
    "#DATASET = \"assistments09\"\n",
    "#DATASET = \"assistments12\"\n",
    "#DATASET = \"assistments15\"\n",
    "#DATASET = \"assistments17\"\n",
    "#DATASET = \"bridge_algebra06\"\n",
    "#DATASET = \"algebra05\"\n",
    "#DATASET = \"spanish\"\n",
    "DATASET = \"statics\"\n",
    "\n",
    "SPLIT = 0.8"
   ]
  },
  {
   "cell_type": "markdown",
   "metadata": {},
   "source": [
    "### Helper functions"
   ]
  },
  {
   "cell_type": "code",
   "execution_count": 3,
   "metadata": {},
   "outputs": [],
   "source": [
    "def renumber_attribute(df, attr_name):\n",
    "    counter = 0\n",
    "    attr_dict = {}\n",
    "    overwrite = []\n",
    "    for e in df[attr_name]:\n",
    "        if e not in attr_dict:\n",
    "            attr_dict[e] = counter\n",
    "            counter += 1\n",
    "        overwrite.append(attr_dict[e])\n",
    "    df[attr_name] = np.array(overwrite)   \n",
    "    return len(attr_dict)\n",
    "\n",
    "\n",
    "def questions_per_user(df):\n",
    "    question_counts = defaultdict(int) \n",
    "    for i, row in df.iterrows():\n",
    "        question_counts[row[\"user_id\"]] += 1\n",
    "    return question_counts\n",
    "\n",
    "\n",
    "def count_item_split(df, split):\n",
    "    question_counts = questions_per_user(df)\n",
    "    \n",
    "    hits_before_split = defaultdict(int) \n",
    "    hits_after_split = defaultdict(int)\n",
    "    \n",
    "    current_user = 0\n",
    "    counter = 0\n",
    "    assert current_user == df[\"user_id\"][0] \n",
    "    for i, row in df.iterrows():\n",
    "        if current_user != row[\"user_id\"]:\n",
    "            current_user = row[\"user_id\"]\n",
    "            counter = 0\n",
    "        \n",
    "        counter += 1\n",
    "        if counter <= split * question_counts[current_user]:\n",
    "            hits_before_split[row[\"item_id\"]] += 1\n",
    "        else:\n",
    "            hits_after_split[row[\"item_id\"]] += 1\n",
    "        \n",
    "    return hits_before_split, hits_after_split\n",
    "\n",
    "\n",
    "def count_skill_split(df, split):\n",
    "    question_counts = questions_per_user(df)\n",
    "    hits_before_split = defaultdict(int) \n",
    "    hits_after_split = defaultdict(int)\n",
    "    \n",
    "    current_user = 0\n",
    "    counter = 0\n",
    "    assert current_user == df[\"user_id\"][0] \n",
    "    for i, row in df.iterrows():\n",
    "        if current_user != row[\"user_id\"]:\n",
    "            current_user = row[\"user_id\"]\n",
    "            counter = 0\n",
    "        \n",
    "        counter += 1\n",
    "        if counter <= split * question_counts[current_user]:\n",
    "            hits_before_split[row[\"skill_id\"]] += 1\n",
    "        else:\n",
    "            hits_after_split[row[\"skill_id\"]] += 1\n",
    "        \n",
    "    return hits_before_split, hits_after_split\n",
    "\n",
    "\n",
    "def percent_difference_to_presplit(pre, post):\n",
    "    rel_diffs = {}\n",
    "    rel_probs = {}\n",
    "\n",
    "    n_before = 0\n",
    "    for k in pre:\n",
    "        n_before += pre[k]\n",
    "\n",
    "    n_after = 0\n",
    "    for k in post:\n",
    "        n_after += post[k]\n",
    "\n",
    "    n_total = n_before + n_after\n",
    "    percent_before = n_before / n_total\n",
    "    percent_after = n_after / n_total\n",
    "    \n",
    "    n_only_pre = 0\n",
    "    for k in pre:\n",
    "        ad_pre = pre[k] / percent_before\n",
    "        if k in post:\n",
    "            ad_post = post[k] / percent_after\n",
    "            rel_probs[k] = (post[k] / n_after)  / (pre[k] / n_before) \n",
    "        else:\n",
    "            n_only_pre += 1\n",
    "            ad_post = 0\n",
    "        ad_total = ad_pre + ad_post\n",
    "        rel_diffs[k] = (ad_post) / ad_total\n",
    "        \n",
    "    n_only_post = 0\n",
    "    for k in post:\n",
    "        if k not in pre:\n",
    "            n_only_post += 1\n",
    "            rel_diffs[k] = 1\n",
    "        \n",
    "    return rel_diffs, rel_probs, n_only_pre, n_only_post\n",
    "    "
   ]
  },
  {
   "cell_type": "markdown",
   "metadata": {},
   "source": [
    "## Compute Statistics"
   ]
  },
  {
   "cell_type": "markdown",
   "metadata": {},
   "source": [
    "### Skill Investigation"
   ]
  },
  {
   "cell_type": "code",
   "execution_count": 4,
   "metadata": {},
   "outputs": [],
   "source": [
    "data_path = \"../data/\" + DATASET + \"/preprocessed_data.csv\" \n",
    "df = pd.read_csv(data_path, sep=\"\\t\")\n",
    "num_students = renumber_attribute(df, \"user_id\")\n",
    "num_items = renumber_attribute(df, \"item_id\")\n",
    "num_skills = renumber_attribute(df, \"skill_id\")"
   ]
  },
  {
   "cell_type": "code",
   "execution_count": 5,
   "metadata": {},
   "outputs": [],
   "source": [
    "pre, post = count_item_split(df, SPLIT)\n",
    "rel_diffs, rel_probs, only_pre, only_post = percent_difference_to_presplit(pre, post)"
   ]
  },
  {
   "cell_type": "code",
   "execution_count": 6,
   "metadata": {},
   "outputs": [
    {
     "data": {
      "image/png": "[encoded data removed]",
      "text/plain": [
       "<Figure size 432x288 with 1 Axes>"
      ]
     },
     "metadata": {
      "needs_background": "light"
     },
     "output_type": "display_data"
    }
   ],
   "source": [
    "# Visualize problem composition\n",
    "data = [rel_diffs[k] for k in rel_diffs]\n",
    "bins = [(0.1 * k - 0.05) for k in range(0,12)]\n",
    "n, bins, patches = plt.hist(data, bins, density=False, facecolor='g', alpha=0.75)\n",
    "\n",
    "plt.xlabel('Given a problem istance. Adjusted probability that problem\\n occurs in last 20% of interaction sequence.')\n",
    "plt.ylabel('Number of Problems')\n",
    "plt.title('Problem composition: ' + DATASET)\n",
    "plt.gcf().subplots_adjust(bottom=0.18)\n",
    "# plt.text(60, .025, r'$\\mu=100,\\ \\sigma=15$')\n",
    "# plt.xlim(40, 160)\n",
    "# plt.ylim(0, 0.03)\n",
    "plt.xticks([0.1 * k for k in range(0, 11)])\n",
    "plt.grid(True)\n",
    "plt.savefig(\"figures_composition/\" + DATASET +\"_problems.pdf\")\n",
    "plt.show()\n"
   ]
  },
  {
   "cell_type": "code",
   "execution_count": 7,
   "metadata": {},
   "outputs": [
    {
     "name": "stdout",
     "output_type": "stream",
     "text": [
      "0.9452166802943581 0.05396565821749796 0.0008176614881439084\n"
     ]
    }
   ],
   "source": [
    "print((num_items - only_pre - only_post) / num_items, only_pre / num_items, only_post / num_items)"
   ]
  },
  {
   "cell_type": "code",
   "execution_count": 8,
   "metadata": {},
   "outputs": [],
   "source": [
    "### Skill Investigation"
   ]
  },
  {
   "cell_type": "code",
   "execution_count": 9,
   "metadata": {},
   "outputs": [],
   "source": [
    "pre, post = count_skill_split(df, SPLIT)\n",
    "rel_diffs, rel_probs, only_pre, only_post = percent_difference_to_presplit(pre, post)"
   ]
  },
  {
   "cell_type": "code",
   "execution_count": 10,
   "metadata": {},
   "outputs": [
    {
     "data": {
      "image/png": "[encoded data removed]",
      "text/plain": [
       "<Figure size 432x288 with 1 Axes>"
      ]
     },
     "metadata": {
      "needs_background": "light"
     },
     "output_type": "display_data"
    }
   ],
   "source": [
    "# Visualize skill composition\n",
    "data = [rel_diffs[k] for k in rel_diffs]\n",
    "bins = [(0.1 * k - 0.05) for k in range(0,12)]\n",
    "n, bins, patches = plt.hist(data, bins, density=False, facecolor='g', alpha=0.75)\n",
    "\n",
    "plt.xlabel('Given a problem istance from a spefic skill. Adjusted probability\\n that problem occurs in last 20% of interaction sequence.')\n",
    "plt.ylabel('Number of Skills')\n",
    "plt.title('Skill composition: ' + DATASET)\n",
    "# plt.text(60, .025, r'$\\mu=100,\\ \\sigma=15$')\n",
    "# plt.xlim(40, 160)\n",
    "# plt.ylim(0, 0.03)\n",
    "plt.gcf().subplots_adjust(bottom=0.18)\n",
    "plt.xticks([0.1 * k for k in range(0, 11)])\n",
    "plt.grid(True)\n",
    "plt.savefig(\"figures_composition/\" + DATASET +\"_skills.pdf\")\n",
    "plt.show()\n"
   ]
  },
  {
   "cell_type": "code",
   "execution_count": 11,
   "metadata": {},
   "outputs": [
    {
     "name": "stdout",
     "output_type": "stream",
     "text": [
      "1.0 0.0 0.0\n"
     ]
    }
   ],
   "source": [
    "print((num_items - only_pre - only_post) / num_items, only_pre / num_items, only_post / num_items)"
   ]
  },
  {
   "cell_type": "markdown",
   "metadata": {},
   "source": [
    "## Old"
   ]
  },
  {
   "cell_type": "code",
   "execution_count": 12,
   "metadata": {},
   "outputs": [
    {
     "name": "stderr",
     "output_type": "stream",
     "text": [
      "/home/robin/installs/miniconda3/envs/vedu/lib/python3.7/site-packages/ipykernel_launcher.py:7: MatplotlibDeprecationWarning: The 'basex' parameter of __init__() has been renamed 'base' since Matplotlib 3.3; support for the old name will be dropped two minor releases later.\n",
      "  import sys\n"
     ]
    },
    {
     "data": {
      "image/png": "[encoded data removed]",
      "text/plain": [
       "<Figure size 432x288 with 1 Axes>"
      ]
     },
     "metadata": {
      "needs_background": "light"
     },
     "output_type": "display_data"
    }
   ],
   "source": [
    "# the histogram of the data\n",
    "data = [rel_probs[k] for k in rel_probs]\n",
    "\n",
    "fig, ax = plt.subplots()\n",
    "bins = [2**(k + 0.5) for k in range(-7,8)]\n",
    "n, bins, patches = plt.hist(data, bins=bins, density=False, facecolor='g', alpha=0.75)\n",
    "ax.set_xscale('log', basex=2)\n",
    "plt.xticks([2**k for k in range(-6,7)])\n",
    "plt.xlabel('P(quest. | last 20%) / P(quest. | first 80%)')\n",
    "plt.ylabel('Number of Questions')\n",
    "plt.title(\"Problem composition \" + DATASET)\n",
    "# plt.text(60, .025, r'$\\mu=100,\\ \\sigma=15$')\n",
    "plt.xlim(2**(-7), 2**7)\n",
    "# plt.ylim(0, 0.03)\n",
    "plt.grid(True)\n",
    "[line.set_zorder(3) for line in ax.lines]\n",
    "plt.show()"
   ]
  },
  {
   "cell_type": "code",
   "execution_count": null,
   "metadata": {},
   "outputs": [],
   "source": []
  },
  {
   "cell_type": "code",
   "execution_count": 13,
   "metadata": {},
   "outputs": [
    {
     "data": {
      "text/plain": [
       "1223"
      ]
     },
     "execution_count": 13,
     "metadata": {},
     "output_type": "execute_result"
    }
   ],
   "source": [
    "num_items\n"
   ]
  },
  {
   "cell_type": "code",
   "execution_count": null,
   "metadata": {},
   "outputs": [],
   "source": []
  }
 ],
 "metadata": {
  "kernelspec": {
   "display_name": "vedu",
   "language": "python",
   "name": "vedu"
  },
  "language_info": {
   "codemirror_mode": {
    "name": "ipython",
    "version": 3
   },
   "file_extension": ".py",
   "mimetype": "text/x-python",
   "name": "python",
   "nbconvert_exporter": "python",
   "pygments_lexer": "ipython3",
   "version": "3.7.0"
  }
 },
 "nbformat": 4,
 "nbformat_minor": 4
}
